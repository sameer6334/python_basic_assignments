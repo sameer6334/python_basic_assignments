{
 "cells": [
  {
   "cell_type": "markdown",
   "id": "74fe9f19-b12b-4411-9d75-465c66dee867",
   "metadata": {},
   "source": [
    "# Theory questions"
   ]
  },
  {
   "cell_type": "markdown",
   "id": "e5131b45-bc5e-4eb9-a8f9-ce4f10ef1441",
   "metadata": {},
   "source": [
    "##  1. What is Python, and why is it popular?"
   ]
  },
  {
   "cell_type": "code",
   "execution_count": null,
   "id": "246e14f5-9419-4970-abc7-4b038ac8393a",
   "metadata": {},
   "outputs": [],
   "source": [
    "#-> Python is a programming language that can be used as formal language to give instructions to the computer or it is a set of rules and symbols that         define programming language to write a logic. \n",
    "#-> Python is very popular because it has large community of developers. \n",
    "#-> Python has extensive Libraries.\n",
    "#-> Python is very popular because of its versatlity.\n",
    "#-> Python provides ease of learning, readability & it is  known for its simplicity.\n"
   ]
  },
  {
   "cell_type": "markdown",
   "id": "1065708f-1a8a-4eee-8806-da5269c834b3",
   "metadata": {},
   "source": [
    "## 2. What is an interpreter in Python?"
   ]
  },
  {
   "cell_type": "code",
   "execution_count": null,
   "id": "ae33060f-27ef-48e4-9673-d0a0e839286d",
   "metadata": {},
   "outputs": [],
   "source": [
    "### -> Interpreter in python is a program which reades and execute the code line by line. It translates high level python code to machine code so that the computer understand and execute the code.\n",
    "### -> How interpreter work:-\n",
    "### (1) It reads the code line by line.\n",
    "### (2) It translates each line to binary language.\n",
    "### (3) Execute the bytecode on python virtual machine(pvm).\n",
    "### (3) Shows output to the user."
   ]
  },
  {
   "cell_type": "markdown",
   "id": "54d3343a-0720-404f-9735-64e2c1b3fee4",
   "metadata": {},
   "source": [
    " ## 3. What are pre-defined keywords in Python?"
   ]
  },
  {
   "cell_type": "code",
   "execution_count": null,
   "id": "e63c4893-62d0-4736-bcfb-c447480c4345",
   "metadata": {},
   "outputs": [],
   "source": [
    "### Pre-defined keywords are special and reserved words which cannot be used as a name of variables/indentifiers.\n",
    "### There are many pre-defined keywords in pyhton such as if, elif, for, while, def, class, in, is etc.\n",
    "### Pre-defined keywords are case sensitive."
   ]
  },
  {
   "cell_type": "markdown",
   "id": "60ea7649-88e8-4151-a18e-dbcd42b1ea4d",
   "metadata": {},
   "source": [
    "## 4. Can keywords be used as variable names ? "
   ]
  },
  {
   "cell_type": "code",
   "execution_count": null,
   "id": "9d5a9675-4d24-4a98-be31-acf0c6799997",
   "metadata": {},
   "outputs": [],
   "source": [
    "### NO, keywords cannot be used as variable names, as keywords are the reserved words."
   ]
  },
  {
   "cell_type": "markdown",
   "id": "ae825d20-aadb-437b-880d-1f5a6d076f68",
   "metadata": {},
   "source": [
    "## 5. What is mutability in Python?"
   ]
  },
  {
   "cell_type": "code",
   "execution_count": null,
   "id": "7b321ff3-64ab-4d7a-8380-8105d988ef5f",
   "metadata": {},
   "outputs": [],
   "source": [
    "### Mutability simply means if a obejct/container is created then after the creation values or state of object/container can be modified or change. lists & Dictonaries are mutable."
   ]
  },
  {
   "cell_type": "markdown",
   "id": "2fa17803-d4da-49b0-baa3-2abb37d3890b",
   "metadata": {},
   "source": [
    "## 6.  Why are lists mutable, but tuples are immutable?"
   ]
  },
  {
   "cell_type": "code",
   "execution_count": null,
   "id": "67dbfe29-84ac-4df7-a446-c7ef517c093b",
   "metadata": {},
   "outputs": [],
   "source": [
    "### Lists are mutable and tuples are immutable because we can change the state or values of lists after its creation be we cannot change the state or values after the creation of tuples."
   ]
  },
  {
   "cell_type": "markdown",
   "id": "94609a11-d28c-45d0-a2bc-1768f0f2558e",
   "metadata": {},
   "source": [
    "## 7. What is the difference between “==” and “is” operators in Python?"
   ]
  },
  {
   "cell_type": "code",
   "execution_count": null,
   "id": "f945df94-decc-47ab-8b69-341d321dd50b",
   "metadata": {},
   "outputs": [],
   "source": [
    "### \"==\" is a comparison operator and \"is\" is an identity operator.\n",
    "### -> comparison operators compares the statements and give boolean output.\n",
    "### -> Identity operator compares the location of memory of created objects or variables."
   ]
  },
  {
   "cell_type": "markdown",
   "id": "2d300c2d-1244-49c1-ab10-a12166d2eac7",
   "metadata": {},
   "source": [
    " ## 8. What are logical operators in Python?"
   ]
  },
  {
   "cell_type": "code",
   "execution_count": null,
   "id": "64202789-0e32-4584-ba95-bbfa65475990",
   "metadata": {},
   "outputs": [],
   "source": [
    "### -> logical operators connects the conditional statments.\n",
    "### -> E.G :- and,or\n",
    "### -> lets take and e.g to understand logical operators.\n"
   ]
  },
  {
   "cell_type": "code",
   "execution_count": 71,
   "id": "2b1d4534-7268-4eea-8fc6-ec3f91bf7e71",
   "metadata": {},
   "outputs": [
    {
     "data": {
      "text/plain": [
       "'\\nif (1 == 2) and (2 == 3):\\n    print(\"i will eat the food\")\\n'"
      ]
     },
     "execution_count": 71,
     "metadata": {},
     "output_type": "execute_result"
    }
   ],
   "source": [
    "'''\n",
    "if (1 == 2) and (2 == 3):\n",
    "    print(\"i will eat the food\")\n",
    "'''"
   ]
  },
  {
   "cell_type": "code",
   "execution_count": null,
   "id": "6af3f30d-158e-4240-821c-188b9580d9eb",
   "metadata": {},
   "outputs": [],
   "source": [
    "## The above code simply means that if 1 is equal to  and 2 is equal to 3 then it will print i will eat food."
   ]
  },
  {
   "cell_type": "markdown",
   "id": "1cc9e288-9562-493f-9d6f-a0e254e1004e",
   "metadata": {},
   "source": [
    " ## 9. What is type casting in Python?"
   ]
  },
  {
   "cell_type": "code",
   "execution_count": null,
   "id": "ca87ee6a-99c3-4af1-82ac-6c71ef8e1594",
   "metadata": {},
   "outputs": [],
   "source": [
    "### Typecasting is a process of converting a data type. It is also known as typeconversion. There are two types of typecasting explicit and implicit typecasting."
   ]
  },
  {
   "cell_type": "markdown",
   "id": "8e87069d-585d-4409-9d55-47756d246861",
   "metadata": {},
   "source": [
    "## 10. What is the difference between implicit and explicit type casting?"
   ]
  },
  {
   "cell_type": "code",
   "execution_count": null,
   "id": "c433c193-ec70-43d2-a05f-700f3baa6625",
   "metadata": {},
   "outputs": [],
   "source": [
    "### Implicit Typecasting:-\n",
    "### -> It is an automate casting that simply means python automatically converts the datatype untill and unless conversion is safe. \n",
    "### -> Implicit typecasting never throws an error. \n",
    "### -> Conversion is safe over here.\n",
    "### -> This process is totaly handeled by python.\n",
    "\n",
    "### Explicit Typecasting:-\n",
    "### -> It is an mannual process of converting data types with the help of inbuilt fucntions such as int(), float(), str().\n",
    "### -> It can throw error in case programmer inputs invalid conversions.\n",
    "### -> conversion might be not safe if programmer inputs invalid conversions.\n",
    "### -> This process is totally handeled by programmer.\n",
    "\n"
   ]
  },
  {
   "cell_type": "markdown",
   "id": "0dd42b26-f699-45f3-8274-11b60c2e3e29",
   "metadata": {},
   "source": [
    "## 11.  What is the purpose of conditional statements in Python?"
   ]
  },
  {
   "cell_type": "code",
   "execution_count": null,
   "id": "f1ef3d50-ac9f-4797-b645-b95f583bd6ff",
   "metadata": {},
   "outputs": [],
   "source": [
    "### The purpose of conditional statemenst in python is to help to code decisions based on precondtions."
   ]
  },
  {
   "cell_type": "markdown",
   "id": "d2dfe817-aa97-4cca-b7b4-c2cae350d9bc",
   "metadata": {},
   "source": [
    "## 12. How does the elif statement work?"
   ]
  },
  {
   "cell_type": "code",
   "execution_count": null,
   "id": "03b4a7b8-4694-46a5-ae1b-3f07cdf0667b",
   "metadata": {},
   "outputs": [],
   "source": [
    "## elif in python stands for elseif that simply means that this will only execute when the if statements becomes false."
   ]
  },
  {
   "cell_type": "markdown",
   "id": "04af80a0-415c-4562-afc1-c74d367991d2",
   "metadata": {},
   "source": [
    "## 13. What is the difference between for and while loops?"
   ]
  },
  {
   "cell_type": "code",
   "execution_count": null,
   "id": "55fc080a-fc31-4df0-93e9-49ae3ee29716",
   "metadata": {},
   "outputs": [],
   "source": [
    "### while loop is used to repeat the block of code untill conditional statment becomes false.\n",
    "### for is used to iterate over a sequence of elements.\n"
   ]
  },
  {
   "cell_type": "code",
   "execution_count": 72,
   "id": "46fd9cc0-a925-4edb-8833-dc30b817aa9e",
   "metadata": {},
   "outputs": [],
   "source": [
    "### syntax of while loop:-\n",
    "### while(condition):\n",
    "###     block of code\n",
    "### syntax of for loop:-\n",
    "### for variable name in range:\n",
    "###     block of code"
   ]
  },
  {
   "cell_type": "markdown",
   "id": "ba44f7db-492f-45ad-b423-60d349a09854",
   "metadata": {},
   "source": [
    " ## 14. Describe a scenario where a while loop is more suitable than a for loop?"
   ]
  },
  {
   "cell_type": "code",
   "execution_count": null,
   "id": "0a99ba49-5d3f-486b-b940-5b219dfce271",
   "metadata": {},
   "outputs": [],
   "source": [
    "### ->  Here in while loop programmer user inputs input many times and user give inputs for condition user can determine the initialisation but user cant do anything in for loop..\n",
    "### -> for loops works for sequence of range and cannot be personalised by user."
   ]
  },
  {
   "cell_type": "markdown",
   "id": "bde64c4c-b585-43bc-b4b0-029bdd4ce41b",
   "metadata": {},
   "source": [
    "#"
   ]
  },
  {
   "cell_type": "markdown",
   "id": "c59b1044-4c2b-47c7-90b0-6132bcdb86ba",
   "metadata": {},
   "source": [
    "# Practical questions"
   ]
  },
  {
   "cell_type": "markdown",
   "id": "356bd39a-7573-4963-a319-73e941d4474d",
   "metadata": {},
   "source": [
    "##"
   ]
  },
  {
   "cell_type": "markdown",
   "id": "375afeb0-093d-49fe-a827-3bcc9c0c06a9",
   "metadata": {},
   "source": [
    "## 1. Write a Python program to print \"Hello, World!\""
   ]
  },
  {
   "cell_type": "code",
   "execution_count": 73,
   "id": "08f4b5a4-09cb-435c-aee3-eaf54e2e85ea",
   "metadata": {},
   "outputs": [
    {
     "name": "stdout",
     "output_type": "stream",
     "text": [
      "Hello, World!\n"
     ]
    }
   ],
   "source": [
    "print(\"Hello, World!\")"
   ]
  },
  {
   "cell_type": "markdown",
   "id": "3253b48b-b40d-4bc8-b73a-6e8cb86d5005",
   "metadata": {},
   "source": [
    "## 2. Write a Python program that displays your name and age."
   ]
  },
  {
   "cell_type": "code",
   "execution_count": 74,
   "id": "32302f07-6372-46f7-9fbb-6872b6f2537a",
   "metadata": {},
   "outputs": [
    {
     "name": "stdout",
     "output_type": "stream",
     "text": [
      "My name is sameer pathak\n",
      "My age is  18\n"
     ]
    }
   ],
   "source": [
    "age = 18\n",
    "name = \"sameer pathak\"\n",
    "print(\"My name is\", name)\n",
    "print(\"My age is \", age)"
   ]
  },
  {
   "cell_type": "markdown",
   "id": "809095f9-3ecd-427f-b708-9c69dc5df4b3",
   "metadata": {},
   "source": [
    "## 3. Write code to print all the pre-defined keywords in Python using the keyword library."
   ]
  },
  {
   "cell_type": "code",
   "execution_count": 75,
   "id": "6698bf61-44e0-4cdc-8953-2124616072fa",
   "metadata": {},
   "outputs": [
    {
     "name": "stdout",
     "output_type": "stream",
     "text": [
      "List of keywords:\n",
      "False\n",
      "None\n",
      "True\n",
      "and\n",
      "as\n",
      "assert\n",
      "async\n",
      "await\n",
      "break\n",
      "class\n",
      "continue\n",
      "def\n",
      "del\n",
      "elif\n",
      "else\n",
      "except\n",
      "finally\n",
      "for\n",
      "from\n",
      "global\n",
      "if\n",
      "import\n",
      "in\n",
      "is\n",
      "lambda\n",
      "nonlocal\n",
      "not\n",
      "or\n",
      "pass\n",
      "raise\n",
      "return\n",
      "try\n",
      "while\n",
      "with\n",
      "yield\n"
     ]
    }
   ],
   "source": [
    "\n",
    "import keyword\n",
    "\n",
    "# To get list of all the keywords\n",
    "\n",
    "keyword = keyword.kwlist\n",
    "\n",
    "# To print all the keywords\n",
    "\n",
    "print('List of keywords:')\n",
    "\n",
    "for word in keyword:\n",
    "    print(word)\n"
   ]
  },
  {
   "cell_type": "markdown",
   "id": "1cbb2346-c950-4592-a07a-d3e510ab4005",
   "metadata": {},
   "source": [
    "## 4. Write a program that checks if a given word is a Python keyword."
   ]
  },
  {
   "cell_type": "code",
   "execution_count": null,
   "id": "097f9f99-a2db-4f1c-9a9c-ce5038426f5d",
   "metadata": {},
   "outputs": [],
   "source": [
    "\n",
    "import keyword\n",
    "\n",
    "def check_keyword(word):\n",
    "    if keyword.iskeyword(word):\n",
    "        print(f\"'{word}' is a keyword\")\n",
    "    else:\n",
    "        print(f\"'{word}' is not a keyword\")\n",
    "\n",
    "word = input(\"Enter a keyword to check if it's a python keyword\")\n",
    "\n",
    "check_keyword(word)\n",
    "\n"
   ]
  },
  {
   "cell_type": "markdown",
   "id": "5e67cd83-fae9-4445-b2c7-cdeebe3ee0e8",
   "metadata": {},
   "source": [
    "## 5. Create a list and tuple in Python, and demonstrate how attempting to change an element works differently for each"
   ]
  },
  {
   "cell_type": "code",
   "execution_count": null,
   "id": "96722c29-a8e2-45b4-8b37-01539846fe80",
   "metadata": {},
   "outputs": [],
   "source": [
    "\n",
    "my_list = [1,2,3,2.4,\"sam\",True]\n",
    "my_tuple = (1,2,3,2.4,\"sam\",True)\n",
    "\n",
    "#Attempting to change an element in my_list\n",
    "\n",
    "my_list[1] = 5\n",
    "print(\"Updated my_list:-\" ,my_list)\n",
    "\n",
    "#Attempting to change an element in my_tuple\n",
    "\n",
    "try:\n",
    "    my_tuple[1] = 5\n",
    "except TypeError:\n",
    "    print(\"Error, can't change an element in the tuple\")\n",
    "\n"
   ]
  },
  {
   "cell_type": "markdown",
   "id": "9c5b29c1-33bd-4792-8b9a-0d017a9d5259",
   "metadata": {},
   "source": [
    " ## 6. Write a function to demonstrate the behavior of mutable and immutable arguments"
   ]
  },
  {
   "cell_type": "code",
   "execution_count": null,
   "id": "c16383af-9336-463e-8716-efa456d74480",
   "metadata": {},
   "outputs": [],
   "source": [
    "def demonstrate_mutability():\n",
    "    mutable_list = [1,2,2.4,\"john\",False]\n",
    "    print(\"Before modifying list\" , mutable_list)\n",
    "    after_modifying_list(mutable_list)\n",
    "    print(\"After modifying list\",  mutable_list)\n",
    "\n",
    "    unmutable_tuple = (1,2,2.4,\"john\",False)\n",
    "    print(\"Before modifying list\",  unmutable_tuple)\n",
    "    after_modifying_tuple(unmutable_tuple)\n",
    "    print(\"After modifying tuple\", unmutable_tuple)\n",
    "\n",
    "def after_modifying_list(lst):\n",
    "    lst[1] = 5\n",
    "\n",
    "def after_modifying_tuple(tpl):\n",
    "    try:\n",
    "         tpl[1] = 5\n",
    "    except TypeError:\n",
    "        print(\"Error, cant modify unmutable_tuple\")\n",
    "\n",
    "demonstrate_mutability()\n",
    "    \n",
    "    "
   ]
  },
  {
   "cell_type": "markdown",
   "id": "3b5a1bfe-ce06-474e-8836-c6a7487ab4ea",
   "metadata": {},
   "source": [
    "## 7. Write a program to demonstrate the use of logical operators"
   ]
  },
  {
   "cell_type": "code",
   "execution_count": null,
   "id": "293bc385-d099-4727-b7d3-2c002e5b99a6",
   "metadata": {},
   "outputs": [],
   "source": [
    "# Logical operators -> or,and,not\n",
    "\n",
    "x = 5\n",
    "y = 10 \n",
    "z = 15\n",
    "\n",
    "#or\n",
    "\n",
    "if x < y or y < z:\n",
    "    print(\"The condition is true\")\n",
    "else:\n",
    "    print(\"The condition is false\")\n",
    "\n",
    "#and\n",
    "\n",
    "if x < y and y < z:\n",
    "    print(\"The condition is true\")\n",
    "else:\n",
    "    print(\"The condtiotn is false\")\n",
    "\n",
    "# joining both and, or operators\n",
    "\n",
    "if (x < y or y < z) and (x < y and y < z):\n",
    "    print(\"The condition is true\")\n",
    "else:\n",
    "    print(\"The condition is false\")\n",
    "\n",
    "if (x < y or y < z) or (x > y and y < z):\n",
    "    print(\"The condition is true\")\n",
    "else: \n",
    "    print(\"The condition is false\")\n",
    "\n",
    "if (x < y or y < z) and (x > y and y < z):\n",
    "    print(\"The condition is true\")\n",
    "else: \n",
    "    print(\"The condition is false\")\n",
    "\n",
    "#not\n",
    "\n",
    "if not(y>x):\n",
    "    print(\"The condition is true\")\n",
    "else:\n",
    "    print(\"The condition is false\")\n",
    "\n",
    "# combining all the logical operators \n",
    "\n",
    "if (x < y or y < z) and not(x > y and y < z):\n",
    "    print(\"The condition is true\")\n",
    "else:\n",
    "    print(\"The condition is false\")"
   ]
  },
  {
   "cell_type": "markdown",
   "id": "af709853-9826-49d0-a2b1-2446efd70329",
   "metadata": {},
   "source": [
    "## 8. Write a Python program to convert user input from string to integer, float, and boolean types"
   ]
  },
  {
   "cell_type": "code",
   "execution_count": null,
   "id": "d0ab4df5-bc28-4f2f-a6f8-743275a76352",
   "metadata": {},
   "outputs": [],
   "source": [
    "input_user = input(\"Enter a value\")\n",
    "\n",
    "try:\n",
    "    conversion_datatype = bool(input_user)\n",
    "    print(f\"Boolean value = {conversion_datatype}\")\n",
    "except ValueError:\n",
    "    print(\"can't convert into boolean datatype\")\n",
    "\n",
    "try:\n",
    "    conversion_datatype = int(input_user)\n",
    "    print(f\"Integer value = {conversion_datatype}\")\n",
    "except ValueError:\n",
    "    print(\"Can't covert into int datatype\")\n",
    "\n",
    "try:\n",
    "    conversion_datatype = float(input_user)\n",
    "    print(f\"Float value = {conversion_datatype}\")\n",
    "except ValueError:\n",
    "    print(\"Can't covert into int datatype\")\n",
    "\n",
    "\n"
   ]
  },
  {
   "cell_type": "markdown",
   "id": "6191ec3d-9476-4590-b7e9-86080ac11e09",
   "metadata": {},
   "source": [
    "## 9. Write code to demonstrate type casting with list elements"
   ]
  },
  {
   "cell_type": "code",
   "execution_count": null,
   "id": "aff469b2-d675-4e49-a78b-51ecd0593a8d",
   "metadata": {},
   "outputs": [],
   "source": [
    "# Create a list with mixed types of elements (integer, float, string, boolean)\n",
    "original_list = [10, 3.14, '20', True]\n",
    "\n",
    "# Convert all elements to integers\n",
    "int_list = [int(x) for x in original_list]\n",
    "print(\"List with all elements as integers:\", int_list)\n",
    "\n",
    "# Convert all elements to floats\n",
    "float_list = [float(x) for x in original_list]\n",
    "print(\"List with all elements as floats:\", float_list)\n",
    "\n",
    "# Convert all elements to strings\n",
    "str_list = [str(x) for x in original_list]\n",
    "print(\"List with all elements as strings:\", str_list)\n",
    "\n",
    "# Convert all elements to booleans\n",
    "bool_list = [bool(x) for x in original_list]\n",
    "print(\"List with all elements as booleans:\", bool_list)\n",
    "\n",
    "      \n",
    "\n"
   ]
  },
  {
   "cell_type": "markdown",
   "id": "5dabecc7-d308-44f9-8969-172c844ef434",
   "metadata": {},
   "source": [
    "## 10.  Write a program that checks if a number is positive, negative, or zero"
   ]
  },
  {
   "cell_type": "code",
   "execution_count": null,
   "id": "5d4fc0d9-25af-4a26-88a6-cf293895e4f5",
   "metadata": {},
   "outputs": [],
   "source": [
    "x = int(input(\"Enter a number\"))\n",
    "\n",
    "if x > 0:\n",
    "    print(\"Given number is positive\")\n",
    "elif x < 0:\n",
    "    print(\"Given number is negative\")\n",
    "else:\n",
    "    print(\"Given number is zero\")"
   ]
  },
  {
   "cell_type": "markdown",
   "id": "c8518784-9bb1-4223-8c3f-ab122a61d38b",
   "metadata": {},
   "source": [
    "## 11. Write a for loop to print numbers from 1 to 10"
   ]
  },
  {
   "cell_type": "code",
   "execution_count": null,
   "id": "51c69162-3578-4fee-9339-1f0744aba4a2",
   "metadata": {},
   "outputs": [],
   "source": [
    "for x in range(1,11):\n",
    "    print(x)"
   ]
  },
  {
   "cell_type": "markdown",
   "id": "9fc49783-f4ba-4380-a4b0-c2b01805a944",
   "metadata": {},
   "source": [
    "## 12. Write a Python program to find the sum of all even numbers between 1 and 50"
   ]
  },
  {
   "cell_type": "code",
   "execution_count": null,
   "id": "65f7ad64-c293-4a67-8336-8560fa4eefe0",
   "metadata": {},
   "outputs": [],
   "source": [
    "sum = 0\n",
    "for x in range(1,51):\n",
    "    if(x%2 == 0):\n",
    "        sum+=x\n",
    "    \n",
    "print(sum) \n"
   ]
  },
  {
   "cell_type": "markdown",
   "id": "629ab8fd-553f-49fc-bc11-87a50cadedb4",
   "metadata": {},
   "source": [
    "## 13. Write a program to reverse a string using a while loop"
   ]
  },
  {
   "cell_type": "code",
   "execution_count": null,
   "id": "e7e8ac6e-15a2-4652-be8a-6039acfd271e",
   "metadata": {},
   "outputs": [],
   "source": [
    "name = 'pwskills'\n",
    "length = len(name)\n",
    "i = length - 1  \n",
    "while (i>=0):\n",
    "    print(name[i])\n",
    "    i-=1\n",
    "    "
   ]
  },
  {
   "cell_type": "markdown",
   "id": "dba8b440-ab0d-462e-9832-2abf92960cf2",
   "metadata": {},
   "source": [
    " ## 14. Write a Python program to calculate the factorial of a number provided by the user using a while loop"
   ]
  },
  {
   "cell_type": "code",
   "execution_count": null,
   "id": "14186600-676e-4fb0-abd1-286194e5889a",
   "metadata": {},
   "outputs": [],
   "source": [
    "user_input = int(input(\"Enter a number to get a factorial of it\"))\n",
    "i = user_input - 1\n",
    "x = user_input\n",
    "while(i>0):\n",
    "    x = x*i\n",
    "    i-=1\n",
    "print(x)"
   ]
  },
  {
   "cell_type": "code",
   "execution_count": null,
   "id": "4cb06c6d-ca89-46f2-b6b9-a225a53f225b",
   "metadata": {},
   "outputs": [],
   "source": []
  }
 ],
 "metadata": {
  "kernelspec": {
   "display_name": "Python 3 (ipykernel)",
   "language": "python",
   "name": "python3"
  },
  "language_info": {
   "codemirror_mode": {
    "name": "ipython",
    "version": 3
   },
   "file_extension": ".py",
   "mimetype": "text/x-python",
   "name": "python",
   "nbconvert_exporter": "python",
   "pygments_lexer": "ipython3",
   "version": "3.13.0"
  }
 },
 "nbformat": 4,
 "nbformat_minor": 5
}
